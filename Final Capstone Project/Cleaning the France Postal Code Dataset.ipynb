{
 "cells": [
  {
   "cell_type": "code",
   "execution_count": 74,
   "metadata": {},
   "outputs": [],
   "source": [
    "import numpy as np\n",
    "import pandas as pd\n",
    "pd.set_option('display.max_columns', None)"
   ]
  },
  {
   "cell_type": "code",
   "execution_count": 75,
   "metadata": {},
   "outputs": [
    {
     "data": {
      "text/html": [
       "<div>\n",
       "<style scoped>\n",
       "    .dataframe tbody tr th:only-of-type {\n",
       "        vertical-align: middle;\n",
       "    }\n",
       "\n",
       "    .dataframe tbody tr th {\n",
       "        vertical-align: top;\n",
       "    }\n",
       "\n",
       "    .dataframe thead th {\n",
       "        text-align: right;\n",
       "    }\n",
       "</style>\n",
       "<table border=\"1\" class=\"dataframe\">\n",
       "  <thead>\n",
       "    <tr style=\"text-align: right;\">\n",
       "      <th></th>\n",
       "      <th>Postal Code</th>\n",
       "      <th>Place Name</th>\n",
       "      <th>State</th>\n",
       "      <th>County</th>\n",
       "      <th>City</th>\n",
       "      <th>Latitude</th>\n",
       "      <th>Longitude</th>\n",
       "    </tr>\n",
       "  </thead>\n",
       "  <tbody>\n",
       "    <tr>\n",
       "      <th>0</th>\n",
       "      <td>24000</td>\n",
       "      <td>Périgueux</td>\n",
       "      <td>Aquitaine</td>\n",
       "      <td>Dordogne</td>\n",
       "      <td>Arrondissement de Périgueux</td>\n",
       "      <td>45.1833</td>\n",
       "      <td>0.7167</td>\n",
       "    </tr>\n",
       "    <tr>\n",
       "      <th>1</th>\n",
       "      <td>24001 CEDEX</td>\n",
       "      <td>Périgueux</td>\n",
       "      <td>Aquitaine</td>\n",
       "      <td>Dordogne</td>\n",
       "      <td>Arrondissement de Périgueux</td>\n",
       "      <td>45.1833</td>\n",
       "      <td>0.7167</td>\n",
       "    </tr>\n",
       "    <tr>\n",
       "      <th>2</th>\n",
       "      <td>24002 CEDEX</td>\n",
       "      <td>Périgueux</td>\n",
       "      <td>Aquitaine</td>\n",
       "      <td>Dordogne</td>\n",
       "      <td>Arrondissement de Périgueux</td>\n",
       "      <td>45.1833</td>\n",
       "      <td>0.7167</td>\n",
       "    </tr>\n",
       "    <tr>\n",
       "      <th>3</th>\n",
       "      <td>24003 CEDEX</td>\n",
       "      <td>Périgueux</td>\n",
       "      <td>Aquitaine</td>\n",
       "      <td>Dordogne</td>\n",
       "      <td>Arrondissement de Périgueux</td>\n",
       "      <td>45.1833</td>\n",
       "      <td>0.7167</td>\n",
       "    </tr>\n",
       "    <tr>\n",
       "      <th>4</th>\n",
       "      <td>24004 CEDEX</td>\n",
       "      <td>Périgueux</td>\n",
       "      <td>Aquitaine</td>\n",
       "      <td>Dordogne</td>\n",
       "      <td>Arrondissement de Périgueux</td>\n",
       "      <td>45.1833</td>\n",
       "      <td>0.7167</td>\n",
       "    </tr>\n",
       "  </tbody>\n",
       "</table>\n",
       "</div>"
      ],
      "text/plain": [
       "   Postal Code Place Name      State    County                         City  \\\n",
       "0        24000  Périgueux  Aquitaine  Dordogne  Arrondissement de Périgueux   \n",
       "1  24001 CEDEX  Périgueux  Aquitaine  Dordogne  Arrondissement de Périgueux   \n",
       "2  24002 CEDEX  Périgueux  Aquitaine  Dordogne  Arrondissement de Périgueux   \n",
       "3  24003 CEDEX  Périgueux  Aquitaine  Dordogne  Arrondissement de Périgueux   \n",
       "4  24004 CEDEX  Périgueux  Aquitaine  Dordogne  Arrondissement de Périgueux   \n",
       "\n",
       "   Latitude  Longitude  \n",
       "0   45.1833     0.7167  \n",
       "1   45.1833     0.7167  \n",
       "2   45.1833     0.7167  \n",
       "3   45.1833     0.7167  \n",
       "4   45.1833     0.7167  "
      ]
     },
     "execution_count": 75,
     "metadata": {},
     "output_type": "execute_result"
    }
   ],
   "source": [
    "df = pd.read_csv(r'Data Files\\fr_postal_codes.csv', encoding = 'iso-8859-1')\n",
    "df.head()"
   ]
  },
  {
   "cell_type": "code",
   "execution_count": 76,
   "metadata": {},
   "outputs": [
    {
     "data": {
      "text/plain": [
       "(51130, 7)"
      ]
     },
     "execution_count": 76,
     "metadata": {},
     "output_type": "execute_result"
    }
   ],
   "source": [
    "df.shape"
   ]
  },
  {
   "cell_type": "code",
   "execution_count": 77,
   "metadata": {},
   "outputs": [],
   "source": [
    "df_paris = df[df['City'] == 'Paris']"
   ]
  },
  {
   "cell_type": "code",
   "execution_count": 78,
   "metadata": {},
   "outputs": [
    {
     "name": "stdout",
     "output_type": "stream",
     "text": [
      "  Postal Code               Place Name          State County   City  Latitude  \\\n",
      "0       75001          Paris 01 Louvre  Île-de-France  Paris  Paris   48.8592   \n",
      "1       75002          Paris 02 Bourse  Île-de-France  Paris  Paris   48.8655   \n",
      "2       75003          Paris 03 Temple  Île-de-France  Paris  Paris   48.8637   \n",
      "3       75004  Paris 04 Hôtel-de-Ville  Île-de-France  Paris  Paris   48.8601   \n",
      "4       75005        Paris 05 Panthéon  Île-de-France  Paris  Paris   48.8448   \n",
      "\n",
      "   Longitude  \n",
      "0     2.3417  \n",
      "1     2.3426  \n",
      "2     2.3615  \n",
      "3     2.3507  \n",
      "4     2.3471  \n",
      "(845, 7)\n"
     ]
    }
   ],
   "source": [
    "df_paris = df_paris.reset_index(drop = True)\n",
    "print(df_paris.head())\n",
    "print(df_paris.shape)"
   ]
  },
  {
   "cell_type": "code",
   "execution_count": 79,
   "metadata": {},
   "outputs": [
    {
     "data": {
      "text/plain": [
       "Paris 15 Vaugirard              62\n",
       "Paris 08 Élysée                 61\n",
       "Paris 13 Gobelins               59\n",
       "Paris 12 Reuilly                56\n",
       "Paris 19 Buttes-Chaumont        55\n",
       "Paris 17 Batignolles-Monceau    54\n",
       "Paris 09 Opéra                  54\n",
       "Paris 02 Bourse                 52\n",
       "Paris 14 Observatoire           46\n",
       "Paris 16 Passy                  43\n",
       "Paris 11 Popincourt             40\n",
       "Paris 18 Buttes-Montmartre      38\n",
       "Paris 10 Entrepôt               37\n",
       "Paris 07 Palais-Bourbon         36\n",
       "Paris 01 Louvre                 35\n",
       "Paris 20 Ménilmontant           29\n",
       "Paris 06 Luxembourg             27\n",
       "Paris 05 Panthéon               26\n",
       "Paris 04 Hôtel-de-Ville         19\n",
       "Paris 03 Temple                 16\n",
       "Name: Place Name, dtype: int64"
      ]
     },
     "execution_count": 79,
     "metadata": {},
     "output_type": "execute_result"
    }
   ],
   "source": [
    "df_paris['Place Name'].value_counts()"
   ]
  },
  {
   "cell_type": "code",
   "execution_count": 80,
   "metadata": {},
   "outputs": [],
   "source": [
    "df_paris['Place Name'] = df_paris['Place Name'].str.lstrip('Paris ')"
   ]
  },
  {
   "cell_type": "code",
   "execution_count": 81,
   "metadata": {},
   "outputs": [],
   "source": [
    "df_paris['Place Name'] = df_paris['Place Name'].str.lstrip('0123456789 ')"
   ]
  },
  {
   "cell_type": "code",
   "execution_count": 82,
   "metadata": {},
   "outputs": [
    {
     "data": {
      "text/plain": [
       "Vaugirard              62\n",
       "Élysée                 61\n",
       "Gobelins               59\n",
       "Reuilly                56\n",
       "Buttes-Chaumont        55\n",
       "Batignolles-Monceau    54\n",
       "Opéra                  54\n",
       "Bourse                 52\n",
       "Observatoire           46\n",
       "Passy                  43\n",
       "Popincourt             40\n",
       "Buttes-Montmartre      38\n",
       "Entrepôt               37\n",
       "Palais-Bourbon         36\n",
       "Louvre                 35\n",
       "Ménilmontant           29\n",
       "Luxembourg             27\n",
       "Panthéon               26\n",
       "Hôtel-de-Ville         19\n",
       "Temple                 16\n",
       "Name: Place Name, dtype: int64"
      ]
     },
     "execution_count": 82,
     "metadata": {},
     "output_type": "execute_result"
    }
   ],
   "source": [
    "df_paris['Place Name'].value_counts()"
   ]
  },
  {
   "cell_type": "code",
   "execution_count": 83,
   "metadata": {},
   "outputs": [
    {
     "data": {
      "text/html": [
       "<div>\n",
       "<style scoped>\n",
       "    .dataframe tbody tr th:only-of-type {\n",
       "        vertical-align: middle;\n",
       "    }\n",
       "\n",
       "    .dataframe tbody tr th {\n",
       "        vertical-align: top;\n",
       "    }\n",
       "\n",
       "    .dataframe thead th {\n",
       "        text-align: right;\n",
       "    }\n",
       "</style>\n",
       "<table border=\"1\" class=\"dataframe\">\n",
       "  <thead>\n",
       "    <tr style=\"text-align: right;\">\n",
       "      <th></th>\n",
       "      <th>Postal Code</th>\n",
       "      <th>Place Name</th>\n",
       "      <th>State</th>\n",
       "      <th>County</th>\n",
       "      <th>City</th>\n",
       "      <th>Latitude</th>\n",
       "      <th>Longitude</th>\n",
       "    </tr>\n",
       "  </thead>\n",
       "  <tbody>\n",
       "    <tr>\n",
       "      <th>0</th>\n",
       "      <td>75001</td>\n",
       "      <td>Louvre</td>\n",
       "      <td>Île-de-France</td>\n",
       "      <td>Paris</td>\n",
       "      <td>Paris</td>\n",
       "      <td>48.8592</td>\n",
       "      <td>2.3417</td>\n",
       "    </tr>\n",
       "    <tr>\n",
       "      <th>1</th>\n",
       "      <td>75002</td>\n",
       "      <td>Bourse</td>\n",
       "      <td>Île-de-France</td>\n",
       "      <td>Paris</td>\n",
       "      <td>Paris</td>\n",
       "      <td>48.8655</td>\n",
       "      <td>2.3426</td>\n",
       "    </tr>\n",
       "    <tr>\n",
       "      <th>2</th>\n",
       "      <td>75003</td>\n",
       "      <td>Temple</td>\n",
       "      <td>Île-de-France</td>\n",
       "      <td>Paris</td>\n",
       "      <td>Paris</td>\n",
       "      <td>48.8637</td>\n",
       "      <td>2.3615</td>\n",
       "    </tr>\n",
       "    <tr>\n",
       "      <th>3</th>\n",
       "      <td>75004</td>\n",
       "      <td>Hôtel-de-Ville</td>\n",
       "      <td>Île-de-France</td>\n",
       "      <td>Paris</td>\n",
       "      <td>Paris</td>\n",
       "      <td>48.8601</td>\n",
       "      <td>2.3507</td>\n",
       "    </tr>\n",
       "    <tr>\n",
       "      <th>4</th>\n",
       "      <td>75005</td>\n",
       "      <td>Panthéon</td>\n",
       "      <td>Île-de-France</td>\n",
       "      <td>Paris</td>\n",
       "      <td>Paris</td>\n",
       "      <td>48.8448</td>\n",
       "      <td>2.3471</td>\n",
       "    </tr>\n",
       "  </tbody>\n",
       "</table>\n",
       "</div>"
      ],
      "text/plain": [
       "  Postal Code      Place Name          State County   City  Latitude  \\\n",
       "0       75001          Louvre  Île-de-France  Paris  Paris   48.8592   \n",
       "1       75002          Bourse  Île-de-France  Paris  Paris   48.8655   \n",
       "2       75003          Temple  Île-de-France  Paris  Paris   48.8637   \n",
       "3       75004  Hôtel-de-Ville  Île-de-France  Paris  Paris   48.8601   \n",
       "4       75005        Panthéon  Île-de-France  Paris  Paris   48.8448   \n",
       "\n",
       "   Longitude  \n",
       "0     2.3417  \n",
       "1     2.3426  \n",
       "2     2.3615  \n",
       "3     2.3507  \n",
       "4     2.3471  "
      ]
     },
     "execution_count": 83,
     "metadata": {},
     "output_type": "execute_result"
    }
   ],
   "source": [
    "df_paris.head()"
   ]
  },
  {
   "cell_type": "code",
   "execution_count": 84,
   "metadata": {},
   "outputs": [],
   "source": [
    "df_paris = df_paris.drop(['State', 'County', 'City'], axis = 1)"
   ]
  },
  {
   "cell_type": "code",
   "execution_count": 85,
   "metadata": {},
   "outputs": [
    {
     "data": {
      "text/html": [
       "<div>\n",
       "<style scoped>\n",
       "    .dataframe tbody tr th:only-of-type {\n",
       "        vertical-align: middle;\n",
       "    }\n",
       "\n",
       "    .dataframe tbody tr th {\n",
       "        vertical-align: top;\n",
       "    }\n",
       "\n",
       "    .dataframe thead th {\n",
       "        text-align: right;\n",
       "    }\n",
       "</style>\n",
       "<table border=\"1\" class=\"dataframe\">\n",
       "  <thead>\n",
       "    <tr style=\"text-align: right;\">\n",
       "      <th></th>\n",
       "      <th>Postal Code</th>\n",
       "      <th>Place Name</th>\n",
       "      <th>Latitude</th>\n",
       "      <th>Longitude</th>\n",
       "    </tr>\n",
       "  </thead>\n",
       "  <tbody>\n",
       "    <tr>\n",
       "      <th>0</th>\n",
       "      <td>75001</td>\n",
       "      <td>Louvre</td>\n",
       "      <td>48.8592</td>\n",
       "      <td>2.3417</td>\n",
       "    </tr>\n",
       "    <tr>\n",
       "      <th>1</th>\n",
       "      <td>75002</td>\n",
       "      <td>Bourse</td>\n",
       "      <td>48.8655</td>\n",
       "      <td>2.3426</td>\n",
       "    </tr>\n",
       "    <tr>\n",
       "      <th>2</th>\n",
       "      <td>75003</td>\n",
       "      <td>Temple</td>\n",
       "      <td>48.8637</td>\n",
       "      <td>2.3615</td>\n",
       "    </tr>\n",
       "    <tr>\n",
       "      <th>3</th>\n",
       "      <td>75004</td>\n",
       "      <td>Hôtel-de-Ville</td>\n",
       "      <td>48.8601</td>\n",
       "      <td>2.3507</td>\n",
       "    </tr>\n",
       "    <tr>\n",
       "      <th>4</th>\n",
       "      <td>75005</td>\n",
       "      <td>Panthéon</td>\n",
       "      <td>48.8448</td>\n",
       "      <td>2.3471</td>\n",
       "    </tr>\n",
       "  </tbody>\n",
       "</table>\n",
       "</div>"
      ],
      "text/plain": [
       "  Postal Code      Place Name  Latitude  Longitude\n",
       "0       75001          Louvre   48.8592     2.3417\n",
       "1       75002          Bourse   48.8655     2.3426\n",
       "2       75003          Temple   48.8637     2.3615\n",
       "3       75004  Hôtel-de-Ville   48.8601     2.3507\n",
       "4       75005        Panthéon   48.8448     2.3471"
      ]
     },
     "execution_count": 85,
     "metadata": {},
     "output_type": "execute_result"
    }
   ],
   "source": [
    "df_paris.head()"
   ]
  },
  {
   "cell_type": "code",
   "execution_count": 86,
   "metadata": {},
   "outputs": [
    {
     "data": {
      "text/html": [
       "<div>\n",
       "<style scoped>\n",
       "    .dataframe tbody tr th:only-of-type {\n",
       "        vertical-align: middle;\n",
       "    }\n",
       "\n",
       "    .dataframe tbody tr th {\n",
       "        vertical-align: top;\n",
       "    }\n",
       "\n",
       "    .dataframe thead th {\n",
       "        text-align: right;\n",
       "    }\n",
       "</style>\n",
       "<table border=\"1\" class=\"dataframe\">\n",
       "  <thead>\n",
       "    <tr style=\"text-align: right;\">\n",
       "      <th></th>\n",
       "      <th>Postal Code</th>\n",
       "      <th>Borough</th>\n",
       "      <th>Latitude</th>\n",
       "      <th>Longitude</th>\n",
       "    </tr>\n",
       "  </thead>\n",
       "  <tbody>\n",
       "    <tr>\n",
       "      <th>0</th>\n",
       "      <td>75001</td>\n",
       "      <td>Louvre</td>\n",
       "      <td>48.8592</td>\n",
       "      <td>2.3417</td>\n",
       "    </tr>\n",
       "    <tr>\n",
       "      <th>1</th>\n",
       "      <td>75002</td>\n",
       "      <td>Bourse</td>\n",
       "      <td>48.8655</td>\n",
       "      <td>2.3426</td>\n",
       "    </tr>\n",
       "    <tr>\n",
       "      <th>2</th>\n",
       "      <td>75003</td>\n",
       "      <td>Temple</td>\n",
       "      <td>48.8637</td>\n",
       "      <td>2.3615</td>\n",
       "    </tr>\n",
       "    <tr>\n",
       "      <th>3</th>\n",
       "      <td>75004</td>\n",
       "      <td>Hôtel-de-Ville</td>\n",
       "      <td>48.8601</td>\n",
       "      <td>2.3507</td>\n",
       "    </tr>\n",
       "    <tr>\n",
       "      <th>4</th>\n",
       "      <td>75005</td>\n",
       "      <td>Panthéon</td>\n",
       "      <td>48.8448</td>\n",
       "      <td>2.3471</td>\n",
       "    </tr>\n",
       "  </tbody>\n",
       "</table>\n",
       "</div>"
      ],
      "text/plain": [
       "  Postal Code         Borough  Latitude  Longitude\n",
       "0       75001          Louvre   48.8592     2.3417\n",
       "1       75002          Bourse   48.8655     2.3426\n",
       "2       75003          Temple   48.8637     2.3615\n",
       "3       75004  Hôtel-de-Ville   48.8601     2.3507\n",
       "4       75005        Panthéon   48.8448     2.3471"
      ]
     },
     "execution_count": 86,
     "metadata": {},
     "output_type": "execute_result"
    }
   ],
   "source": [
    "df_paris.rename(columns = {'Place Name': 'Borough'}, inplace = True)\n",
    "df_paris.head()"
   ]
  },
  {
   "cell_type": "code",
   "execution_count": 87,
   "metadata": {},
   "outputs": [
    {
     "data": {
      "text/plain": [
       "(845, 4)"
      ]
     },
     "execution_count": 87,
     "metadata": {},
     "output_type": "execute_result"
    }
   ],
   "source": [
    "df_paris.shape"
   ]
  },
  {
   "cell_type": "code",
   "execution_count": 89,
   "metadata": {},
   "outputs": [],
   "source": [
    "df_paris.to_csv('Paris Postal Codes.csv', index = False)"
   ]
  },
  {
   "cell_type": "code",
   "execution_count": null,
   "metadata": {},
   "outputs": [],
   "source": []
  }
 ],
 "metadata": {
  "kernelspec": {
   "display_name": "Python 3",
   "language": "python",
   "name": "python3"
  },
  "language_info": {
   "codemirror_mode": {
    "name": "ipython",
    "version": 3
   },
   "file_extension": ".py",
   "mimetype": "text/x-python",
   "name": "python",
   "nbconvert_exporter": "python",
   "pygments_lexer": "ipython3",
   "version": "3.6.7"
  }
 },
 "nbformat": 4,
 "nbformat_minor": 2
}
